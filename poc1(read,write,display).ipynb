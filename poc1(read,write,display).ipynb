{
 "cells": [
  {
   "cell_type": "code",
   "execution_count": 1,
   "id": "15b22c00",
   "metadata": {},
   "outputs": [],
   "source": [
    "import cv2"
   ]
  },
  {
   "cell_type": "code",
   "execution_count": 2,
   "id": "dd876bd2",
   "metadata": {},
   "outputs": [],
   "source": [
    "import numpy as np"
   ]
  },
  {
   "cell_type": "code",
   "execution_count": 3,
   "id": "e680df0b",
   "metadata": {},
   "outputs": [],
   "source": [
    "input=cv2.imread(r'D:\\Cdrive files\\FSDS\\images\\tiger.jpg')"
   ]
  },
  {
   "cell_type": "code",
   "execution_count": 4,
   "id": "82125b0e",
   "metadata": {},
   "outputs": [
    {
     "data": {
      "text/plain": [
       "array([[[ 32,  46,  44],\n",
       "        [ 25,  39,  37],\n",
       "        [ 21,  36,  32],\n",
       "        ...,\n",
       "        [ 57, 122, 100],\n",
       "        [ 60, 125, 103],\n",
       "        [ 55, 120,  98]],\n",
       "\n",
       "       [[ 29,  43,  41],\n",
       "        [ 24,  39,  35],\n",
       "        [ 21,  36,  32],\n",
       "        ...,\n",
       "        [ 65, 130, 108],\n",
       "        [ 67, 132, 110],\n",
       "        [ 61, 126, 104]],\n",
       "\n",
       "       [[ 25,  42,  38],\n",
       "        [ 21,  38,  34],\n",
       "        [ 19,  36,  32],\n",
       "        ...,\n",
       "        [ 71, 136, 114],\n",
       "        [ 72, 136, 114],\n",
       "        [ 65, 129, 107]],\n",
       "\n",
       "       ...,\n",
       "\n",
       "       [[148, 173, 183],\n",
       "        [140, 165, 175],\n",
       "        [106, 131, 141],\n",
       "        ...,\n",
       "        [124, 151, 165],\n",
       "        [105, 132, 146],\n",
       "        [143, 170, 184]],\n",
       "\n",
       "       [[ 97, 113, 119],\n",
       "        [ 75,  94,  99],\n",
       "        [ 50,  69,  74],\n",
       "        ...,\n",
       "        [115, 143, 154],\n",
       "        [ 89, 117, 128],\n",
       "        [125, 153, 164]],\n",
       "\n",
       "       [[ 64,  76,  80],\n",
       "        [ 73,  88,  91],\n",
       "        [ 69,  84,  87],\n",
       "        ...,\n",
       "        [ 88, 116, 127],\n",
       "        [ 87, 115, 126],\n",
       "        [ 83, 111, 122]]], shape=(400, 400, 3), dtype=uint8)"
      ]
     },
     "execution_count": 4,
     "metadata": {},
     "output_type": "execute_result"
    }
   ],
   "source": [
    "input"
   ]
  },
  {
   "cell_type": "code",
   "execution_count": 5,
   "id": "b7b49145",
   "metadata": {},
   "outputs": [],
   "source": [
    "cv2.imshow('tiger',input)\n",
    "cv2.waitKey()\n",
    "cv2.destroyAllWindows()"
   ]
  },
  {
   "cell_type": "code",
   "execution_count": 6,
   "id": "de4fa37e",
   "metadata": {},
   "outputs": [
    {
     "name": "stdout",
     "output_type": "stream",
     "text": [
      "Height of Image: 400 pixels\n",
      "Width of Image: 400 pixels\n"
     ]
    }
   ],
   "source": [
    "print('Height of Image:',int(input.shape[0]),'pixels')\n",
    "print('Width of Image:',int(input.shape[1]),'pixels')"
   ]
  },
  {
   "cell_type": "code",
   "execution_count": 7,
   "id": "c325408b",
   "metadata": {},
   "outputs": [
    {
     "data": {
      "text/plain": [
       "True"
      ]
     },
     "execution_count": 7,
     "metadata": {},
     "output_type": "execute_result"
    }
   ],
   "source": [
    "cv2.imwrite('output.png', input)"
   ]
  },
  {
   "cell_type": "code",
   "execution_count": 8,
   "id": "49c042b0",
   "metadata": {},
   "outputs": [
    {
     "data": {
      "text/plain": [
       "'d:\\\\Cdrive files\\\\VS_code\\\\OPENCV'"
      ]
     },
     "execution_count": 8,
     "metadata": {},
     "output_type": "execute_result"
    }
   ],
   "source": [
    "import os\n",
    "os.getcwd()"
   ]
  },
  {
   "cell_type": "code",
   "execution_count": null,
   "id": "b443cff0",
   "metadata": {},
   "outputs": [],
   "source": []
  },
  {
   "cell_type": "code",
   "execution_count": null,
   "id": "b8492082",
   "metadata": {},
   "outputs": [],
   "source": []
  },
  {
   "cell_type": "code",
   "execution_count": null,
   "id": "cd75d029",
   "metadata": {},
   "outputs": [],
   "source": []
  }
 ],
 "metadata": {
  "kernelspec": {
   "display_name": "Python 3",
   "language": "python",
   "name": "python3"
  },
  "language_info": {
   "codemirror_mode": {
    "name": "ipython",
    "version": 3
   },
   "file_extension": ".py",
   "mimetype": "text/x-python",
   "name": "python",
   "nbconvert_exporter": "python",
   "pygments_lexer": "ipython3",
   "version": "3.13.7"
  }
 },
 "nbformat": 4,
 "nbformat_minor": 5
}
